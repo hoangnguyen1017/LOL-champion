{
 "cells": [
  {
   "cell_type": "code",
   "execution_count": 1,
   "id": "75da90fe-d32c-4aa3-b79b-535167379b88",
   "metadata": {},
   "outputs": [],
   "source": [
    "import pandas as pd"
   ]
  },
  {
   "cell_type": "code",
   "execution_count": 2,
   "id": "c18c17c8-af56-4f92-b46c-fa1bf5182143",
   "metadata": {},
   "outputs": [
    {
     "name": "stdout",
     "output_type": "stream",
     "text": [
      "    ID      Name      Role  Health  Attack  Defense  Attack Speed\n",
      "0    1    AATROX   Fighter     650      60       38         0.651\n",
      "1    2    DARIUS   Fighter     652      64       39         0.625\n",
      "2    3    ILLAOI   Fighter     656      68       35         0.625\n",
      "3    4     MUNDO   Fighter     613      61       32         0.670\n",
      "4    5   SHYVANA   Fighter     665      66       38         0.658\n",
      "5    6  APHELIOS  Marksman     580      55       26         0.640\n",
      "6    7    EZREAL  Marksman     600      62       24         0.625\n",
      "7    8  TRISTANA  Marksman     670      59       26         0.656\n",
      "8    9      JINX  Marksman     630      59       26         0.625\n",
      "9   10      JHIN  Marksman     655      59       24         0.625\n",
      "10  11      SION      Tank     655      68       32         0.679\n",
      "11  12  MALPHITE      Tank     644      62       37         0.736\n",
      "12  13  NAUTILUS      Tank     646      61       39         0.706\n",
      "13  14      ORNN      Tank     660      69       35         0.625\n",
      "14  15   SEJUANI      Tank     630      66       34         0.688\n",
      "15  16     VIEGO  Assassin     630      57       34         0.658\n",
      "16  17    RENGAR  Assassin     620      68       34         0.667\n",
      "17  18   NAAFIRI  Assassin     650      57       32         0.663\n",
      "18  19     SHACO  Assassin     630      63       30         0.694\n",
      "19  20     TALON  Assassin     658      68       30         0.625\n",
      "20  21    RUMBLE      Mage     625      61       36         0.644\n",
      "21  22    XERATH      Mage     596      55       22         0.625\n",
      "22  23     ZIGGS      Mage     606      54       22         0.656\n",
      "23  24    VIKTOR      Mage     600      53       23         0.658\n",
      "24  25      RYZE      Mage     645      58       22         0.625\n",
      "25  26      SONA   Support     550      49       26         0.644\n",
      "26  27    SORAKA   Support     605      50       32         0.625\n",
      "27  28     YUUMI   Support     500      49       25         0.625\n",
      "28  29    ZILEAN   Support     574      52       24         0.625\n",
      "29  30      ZYRA   Support     574      53       29         0.625\n"
     ]
    }
   ],
   "source": [
    "df = pd.read_csv(\"inforchampion2.csv\")\n",
    "print(df)\n"
   ]
  },
  {
   "cell_type": "code",
   "execution_count": 3,
   "id": "eb968656-d257-4d6f-832f-41aa18a8c66f",
   "metadata": {},
   "outputs": [
    {
     "data": {
      "text/html": [
       "<div>\n",
       "<style scoped>\n",
       "    .dataframe tbody tr th:only-of-type {\n",
       "        vertical-align: middle;\n",
       "    }\n",
       "\n",
       "    .dataframe tbody tr th {\n",
       "        vertical-align: top;\n",
       "    }\n",
       "\n",
       "    .dataframe thead th {\n",
       "        text-align: right;\n",
       "    }\n",
       "</style>\n",
       "<table border=\"1\" class=\"dataframe\">\n",
       "  <thead>\n",
       "    <tr style=\"text-align: right;\">\n",
       "      <th></th>\n",
       "      <th>ID</th>\n",
       "      <th>Name</th>\n",
       "      <th>Role</th>\n",
       "      <th>Health</th>\n",
       "      <th>Attack</th>\n",
       "      <th>Defense</th>\n",
       "      <th>Attack Speed</th>\n",
       "    </tr>\n",
       "  </thead>\n",
       "  <tbody>\n",
       "    <tr>\n",
       "      <th>0</th>\n",
       "      <td>1</td>\n",
       "      <td>AATROX</td>\n",
       "      <td>Fighter</td>\n",
       "      <td>650</td>\n",
       "      <td>60</td>\n",
       "      <td>38</td>\n",
       "      <td>0.651</td>\n",
       "    </tr>\n",
       "    <tr>\n",
       "      <th>1</th>\n",
       "      <td>2</td>\n",
       "      <td>DARIUS</td>\n",
       "      <td>Fighter</td>\n",
       "      <td>652</td>\n",
       "      <td>64</td>\n",
       "      <td>39</td>\n",
       "      <td>0.625</td>\n",
       "    </tr>\n",
       "    <tr>\n",
       "      <th>2</th>\n",
       "      <td>3</td>\n",
       "      <td>ILLAOI</td>\n",
       "      <td>Fighter</td>\n",
       "      <td>656</td>\n",
       "      <td>68</td>\n",
       "      <td>35</td>\n",
       "      <td>0.625</td>\n",
       "    </tr>\n",
       "    <tr>\n",
       "      <th>3</th>\n",
       "      <td>4</td>\n",
       "      <td>MUNDO</td>\n",
       "      <td>Fighter</td>\n",
       "      <td>613</td>\n",
       "      <td>61</td>\n",
       "      <td>32</td>\n",
       "      <td>0.670</td>\n",
       "    </tr>\n",
       "    <tr>\n",
       "      <th>4</th>\n",
       "      <td>5</td>\n",
       "      <td>SHYVANA</td>\n",
       "      <td>Fighter</td>\n",
       "      <td>665</td>\n",
       "      <td>66</td>\n",
       "      <td>38</td>\n",
       "      <td>0.658</td>\n",
       "    </tr>\n",
       "    <tr>\n",
       "      <th>5</th>\n",
       "      <td>6</td>\n",
       "      <td>APHELIOS</td>\n",
       "      <td>Marksman</td>\n",
       "      <td>580</td>\n",
       "      <td>55</td>\n",
       "      <td>26</td>\n",
       "      <td>0.640</td>\n",
       "    </tr>\n",
       "    <tr>\n",
       "      <th>6</th>\n",
       "      <td>7</td>\n",
       "      <td>EZREAL</td>\n",
       "      <td>Marksman</td>\n",
       "      <td>600</td>\n",
       "      <td>62</td>\n",
       "      <td>24</td>\n",
       "      <td>0.625</td>\n",
       "    </tr>\n",
       "    <tr>\n",
       "      <th>7</th>\n",
       "      <td>8</td>\n",
       "      <td>TRISTANA</td>\n",
       "      <td>Marksman</td>\n",
       "      <td>670</td>\n",
       "      <td>59</td>\n",
       "      <td>26</td>\n",
       "      <td>0.656</td>\n",
       "    </tr>\n",
       "    <tr>\n",
       "      <th>8</th>\n",
       "      <td>9</td>\n",
       "      <td>JINX</td>\n",
       "      <td>Marksman</td>\n",
       "      <td>630</td>\n",
       "      <td>59</td>\n",
       "      <td>26</td>\n",
       "      <td>0.625</td>\n",
       "    </tr>\n",
       "    <tr>\n",
       "      <th>9</th>\n",
       "      <td>10</td>\n",
       "      <td>JHIN</td>\n",
       "      <td>Marksman</td>\n",
       "      <td>655</td>\n",
       "      <td>59</td>\n",
       "      <td>24</td>\n",
       "      <td>0.625</td>\n",
       "    </tr>\n",
       "  </tbody>\n",
       "</table>\n",
       "</div>"
      ],
      "text/plain": [
       "   ID      Name      Role  Health  Attack  Defense  Attack Speed\n",
       "0   1    AATROX   Fighter     650      60       38         0.651\n",
       "1   2    DARIUS   Fighter     652      64       39         0.625\n",
       "2   3    ILLAOI   Fighter     656      68       35         0.625\n",
       "3   4     MUNDO   Fighter     613      61       32         0.670\n",
       "4   5   SHYVANA   Fighter     665      66       38         0.658\n",
       "5   6  APHELIOS  Marksman     580      55       26         0.640\n",
       "6   7    EZREAL  Marksman     600      62       24         0.625\n",
       "7   8  TRISTANA  Marksman     670      59       26         0.656\n",
       "8   9      JINX  Marksman     630      59       26         0.625\n",
       "9  10      JHIN  Marksman     655      59       24         0.625"
      ]
     },
     "execution_count": 3,
     "metadata": {},
     "output_type": "execute_result"
    }
   ],
   "source": [
    "df.head(10)"
   ]
  },
  {
   "cell_type": "code",
   "execution_count": 4,
   "id": "ec6d75fa-3c86-43b9-a0e7-5c70de84ac18",
   "metadata": {},
   "outputs": [
    {
     "data": {
      "text/plain": [
       "ID                                                            465\n",
       "Name            AATROXDARIUSILLAOIMUNDOSHYVANAAPHELIOSEZREALTR...\n",
       "Role            FighterFighterFighterFighterFighterMarksmanMar...\n",
       "Health                                                      18669\n",
       "Attack                                                       1786\n",
       "Defense                                                       906\n",
       "Attack Speed                                               19.493\n",
       "dtype: object"
      ]
     },
     "execution_count": 4,
     "metadata": {},
     "output_type": "execute_result"
    }
   ],
   "source": [
    "df.sum()"
   ]
  },
  {
   "cell_type": "code",
   "execution_count": 5,
   "id": "37a9f3fd-69d7-489f-af83-55eedd437d34",
   "metadata": {},
   "outputs": [
    {
     "data": {
      "text/plain": [
       "<bound method NDFrame.describe of     ID      Name      Role  Health  Attack  Defense  Attack Speed\n",
       "0    1    AATROX   Fighter     650      60       38         0.651\n",
       "1    2    DARIUS   Fighter     652      64       39         0.625\n",
       "2    3    ILLAOI   Fighter     656      68       35         0.625\n",
       "3    4     MUNDO   Fighter     613      61       32         0.670\n",
       "4    5   SHYVANA   Fighter     665      66       38         0.658\n",
       "5    6  APHELIOS  Marksman     580      55       26         0.640\n",
       "6    7    EZREAL  Marksman     600      62       24         0.625\n",
       "7    8  TRISTANA  Marksman     670      59       26         0.656\n",
       "8    9      JINX  Marksman     630      59       26         0.625\n",
       "9   10      JHIN  Marksman     655      59       24         0.625\n",
       "10  11      SION      Tank     655      68       32         0.679\n",
       "11  12  MALPHITE      Tank     644      62       37         0.736\n",
       "12  13  NAUTILUS      Tank     646      61       39         0.706\n",
       "13  14      ORNN      Tank     660      69       35         0.625\n",
       "14  15   SEJUANI      Tank     630      66       34         0.688\n",
       "15  16     VIEGO  Assassin     630      57       34         0.658\n",
       "16  17    RENGAR  Assassin     620      68       34         0.667\n",
       "17  18   NAAFIRI  Assassin     650      57       32         0.663\n",
       "18  19     SHACO  Assassin     630      63       30         0.694\n",
       "19  20     TALON  Assassin     658      68       30         0.625\n",
       "20  21    RUMBLE      Mage     625      61       36         0.644\n",
       "21  22    XERATH      Mage     596      55       22         0.625\n",
       "22  23     ZIGGS      Mage     606      54       22         0.656\n",
       "23  24    VIKTOR      Mage     600      53       23         0.658\n",
       "24  25      RYZE      Mage     645      58       22         0.625\n",
       "25  26      SONA   Support     550      49       26         0.644\n",
       "26  27    SORAKA   Support     605      50       32         0.625\n",
       "27  28     YUUMI   Support     500      49       25         0.625\n",
       "28  29    ZILEAN   Support     574      52       24         0.625\n",
       "29  30      ZYRA   Support     574      53       29         0.625>"
      ]
     },
     "execution_count": 5,
     "metadata": {},
     "output_type": "execute_result"
    }
   ],
   "source": [
    "df.describe"
   ]
  },
  {
   "cell_type": "code",
   "execution_count": 6,
   "id": "c7a9bf2e-7775-4bdc-ba0c-62736d0440d5",
   "metadata": {},
   "outputs": [
    {
     "data": {
      "text/plain": [
       "(30, 7)"
      ]
     },
     "execution_count": 6,
     "metadata": {},
     "output_type": "execute_result"
    }
   ],
   "source": [
    "df.shape"
   ]
  },
  {
   "cell_type": "code",
   "execution_count": 7,
   "id": "1b28a901-7e00-40a2-a1c1-a034bfdfbca0",
   "metadata": {},
   "outputs": [
    {
     "data": {
      "text/plain": [
       "ID                    1\n",
       "Name             AATROX\n",
       "Role            Fighter\n",
       "Health              650\n",
       "Attack               60\n",
       "Defense              38\n",
       "Attack Speed      0.651\n",
       "Name: 0, dtype: object"
      ]
     },
     "execution_count": 7,
     "metadata": {},
     "output_type": "execute_result"
    }
   ],
   "source": [
    "df.loc[0]"
   ]
  },
  {
   "cell_type": "code",
   "execution_count": 8,
   "id": "5d4554a0-61df-44f7-bede-695463597b8d",
   "metadata": {},
   "outputs": [
    {
     "data": {
      "text/plain": [
       "ID                    1\n",
       "Name             AATROX\n",
       "Role            Fighter\n",
       "Health              650\n",
       "Attack               60\n",
       "Defense              38\n",
       "Attack Speed      0.651\n",
       "Name: 0, dtype: object"
      ]
     },
     "execution_count": 8,
     "metadata": {},
     "output_type": "execute_result"
    }
   ],
   "source": [
    "df.iloc[0]"
   ]
  },
  {
   "cell_type": "code",
   "execution_count": 9,
   "id": "a5a21743-8986-4c0d-a18e-9fba2273294d",
   "metadata": {},
   "outputs": [
    {
     "data": {
      "text/plain": [
       "ID                    2\n",
       "Name             DARIUS\n",
       "Role            Fighter\n",
       "Health              652\n",
       "Attack               64\n",
       "Defense              39\n",
       "Attack Speed      0.625\n",
       "Name: 1, dtype: object"
      ]
     },
     "execution_count": 9,
     "metadata": {},
     "output_type": "execute_result"
    }
   ],
   "source": [
    "df.iloc[1]"
   ]
  },
  {
   "cell_type": "code",
   "execution_count": 10,
   "id": "6482c673-1c0b-4fd4-8d05-1b41cdc1652d",
   "metadata": {},
   "outputs": [
    {
     "data": {
      "text/plain": [
       "ID                    2\n",
       "Name             DARIUS\n",
       "Role            Fighter\n",
       "Health              652\n",
       "Attack               64\n",
       "Defense              39\n",
       "Attack Speed      0.625\n",
       "Name: 1, dtype: object"
      ]
     },
     "execution_count": 10,
     "metadata": {},
     "output_type": "execute_result"
    }
   ],
   "source": [
    "df.loc[1]"
   ]
  },
  {
   "cell_type": "code",
   "execution_count": null,
   "id": "cb898601-9074-4245-a6ee-06dd62174e24",
   "metadata": {},
   "outputs": [],
   "source": []
  }
 ],
 "metadata": {
  "kernelspec": {
   "display_name": "Python 3 (ipykernel)",
   "language": "python",
   "name": "python3"
  },
  "language_info": {
   "codemirror_mode": {
    "name": "ipython",
    "version": 3
   },
   "file_extension": ".py",
   "mimetype": "text/x-python",
   "name": "python",
   "nbconvert_exporter": "python",
   "pygments_lexer": "ipython3",
   "version": "3.11.4"
  }
 },
 "nbformat": 4,
 "nbformat_minor": 5
}
