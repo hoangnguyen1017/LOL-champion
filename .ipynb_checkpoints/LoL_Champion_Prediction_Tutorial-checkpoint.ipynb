{
 "cells": [
  {
   "cell_type": "markdown",
   "id": "215019f1-8911-4d78-b499-8ab966367315",
   "metadata": {
    "noteable": {
     "cell_type": "markdown"
    }
   },
   "source": [
    "# Introduction to the League of Legends Champion Dataset\n",
    "\n",
    "In this notebook, we'll introduce the dataset containing attributes of various champions from the popular online game, League of Legends. Understanding the dataset is the first step in any data analysis or machine learning project."
   ]
  },
  {
   "cell_type": "markdown",
   "id": "76f97b7b-e74c-4529-a0a8-00d851a789ba",
   "metadata": {
    "noteable": {
     "cell_type": "markdown"
    }
   },
   "source": [
    "## Loading the Dataset\n",
    "\n",
    "Let's start by loading the dataset and taking a look at the first few rows.\n",
    "\n",
    "First loading the data using the inforchampion2.csv"
   ]
  },
  {
   "cell_type": "code",
   "execution_count": null,
   "id": "d84cf725",
   "metadata": {},
   "outputs": [],
   "source": [
    "# Your code goes here"
   ]
  },
  {
   "cell_type": "markdown",
   "id": "37dd6776-c6d3-410e-9373-ddcea22494ec",
   "metadata": {
    "noteable": {
     "cell_type": "markdown"
    }
   },
   "source": [
    "## Exploratory Data Analysis (EDA)\n",
    "\n",
    "Exploratory Data Analysis (EDA) is an essential step in the data analysis process. It involves visualizing and understanding the patterns, relationships, anomalies, and other characteristics of the data. Through EDA, we can gain valuable insights that can guide our subsequent analyses and modeling efforts.\n",
    "\n",
    "In this section, we'll:\n",
    "1. Visualize the distribution of attributes.\n",
    "2. Understand the distribution of attributes by role.\n",
    "3. Calculate basic statistics for the attributes.\n",
    "4. Explore attribute correlations."
   ]
  },
  {
   "cell_type": "markdown",
   "id": "ab581053-ee95-47e1-9bcf-8bd20e2f8044",
   "metadata": {
    "noteable": {
     "cell_type": "markdown"
    }
   },
   "source": [
    "### 1. Visualize the Distribution of Attributes\n",
    "\n",
    "We'll start by visualizing the distribution of numerical attributes such as Health, Attack, Defense, and Attack Speed. Histograms are a great way to understand the distribution of continuous data. Let's plot histograms for these attributes."
   ]
  },
  {
   "cell_type": "code",
   "execution_count": null,
   "id": "d51909f4-9d3c-45b0-94c9-d3b46dd7fc4f",
   "metadata": {
    "ExecuteTime": {
     "end_time": "2023-08-29T23:21:36.977046+00:00",
     "start_time": "2023-08-29T23:21:34.455486+00:00"
    },
    "noteable": {
     "cell_type": "code",
     "output_collection_id": "7cb100b5-d58e-4d91-9b3d-31686d58e6e0"
    }
   },
   "outputs": [],
   "source": [
    "import matplotlib.pyplot as plt\n",
    "import seaborn as sns\n",
    "\n",
    "# Setting the style for seaborn plots\n",
    "sns.set_style('whitegrid')\n",
    "\n",
    "# Plotting histograms for the numerical attributes using matplotlib\n",
    "# Declare an array call attributes which contain Health, Attack, Defense and Attack Speed \n",
    "# Plot the histogram by passing the array into the dataframe\n",
    "# For example: df[array].hist()"
   ]
  },
  {
   "cell_type": "markdown",
   "id": "c867afab",
   "metadata": {},
   "source": [
    "The histograms provide insights into the distribution of the champion attributes:\n",
    "\n",
    "Health: Most champions have health values clustered around 600-650. There's a slight skew towards higher health values, indicating that there are a few champions with exceptionally high health.\n",
    "Attack: The attack values are fairly normally distributed, with most champions having attack values between 55 and 65.\n",
    "Defense: The defense values show a slight skew towards higher values, with a peak around 30-35.\n",
    "Attack Speed: The attack speed values are clustered around 0.625 to 0.675, with a few outliers.\n",
    "Next, we'll explore how these attributes vary based on the role of the champion. This will help us understand if certain roles tend to have higher or lower values for specific attributes."
   ]
  },
  {
   "cell_type": "markdown",
   "id": "f790c870",
   "metadata": {},
   "source": [
    "We'll use box plots to visualize the distribution of attributes for each role. Box plots provide a summary of the central tendency, variability, and distribution shape of a dataset. They also help identify outliers in the data. Let's plot box plots for the attributes grouped by the champion's role."
   ]
  },
  {
   "cell_type": "code",
   "execution_count": null,
   "id": "080a8814-b135-451f-ae1b-474e0f2aac70",
   "metadata": {
    "ExecuteTime": {
     "end_time": "2023-08-29T23:22:09.263697+00:00",
     "start_time": "2023-08-29T23:22:07.371183+00:00"
    },
    "noteable": {
     "cell_type": "code",
     "output_collection_id": "2f1911fc-feb1-4da7-bc41-46b436c344a7"
    }
   },
   "outputs": [],
   "source": [
    "plt.figure(figsize=(15, 10))\n",
    "\n",
    "for index, attribute in enumerate(attributes, 1):\n",
    "    plt.subplot(2, 2, index)\n",
    "    sns.boxplot(x='Role', y=attribute, data=champions_df, palette='pastel')\n",
    "    plt.title(f'Distribution of {attribute} by Role')\n",
    "    plt.xticks(rotation=45)\n",
    "\n",
    "plt.tight_layout()\n",
    "plt.show()"
   ]
  },
  {
   "cell_type": "markdown",
   "id": "d1d660c4",
   "metadata": {},
   "source": [
    "The box plots provide insights into the distribution of champion attributes based on their roles:\n",
    "\n",
    "Health:\n",
    "Tanks have the highest median health, which is expected as they are designed to absorb damage.\n",
    "Supports and Marksmen have the lowest median health, indicating they are more fragile.\n",
    "Attack:\n",
    "Assassins and Fighters have higher median attack values, indicating they are more damage-oriented.\n",
    "Supports have the lowest median attack, as their primary role is not to deal damage.\n",
    "Defense:\n",
    "Tanks have the highest median defense, reinforcing their role as damage absorbers.\n",
    "Mages and Marksmen have lower defense values, making them more susceptible to damage.\n",
    "Attack Speed:\n",
    "Marksmen have a higher attack speed, which is consistent with their role as ranged damage dealers who rely on rapid attacks.\n",
    "Mages and Supports have lower attack speeds, as they often rely on abilities rather than basic attacks.\n",
    "These insights align with the general understanding of the roles in League of Legends. Understanding these patterns can be crucial when selecting champions for a team or when predicting the outcome of battles.\n",
    "\n",
    "Next, we'll calculate basic statistics for the attributes to get a numerical understanding of their distributions."
   ]
  },
  {
   "cell_type": "markdown",
   "id": "cd8ea2bf",
   "metadata": {},
   "source": [
    "### 3. Calculate Basic Statistics for the Attributes\n",
    "We'll compute the mean, median, standard deviation, minimum, and maximum values for each attribute. This will give us a summary of the central tendency and spread of the data."
   ]
  },
  {
   "cell_type": "code",
   "execution_count": null,
   "id": "4410ce01-36a5-495b-b92b-5e40bcf826ef",
   "metadata": {
    "ExecuteTime": {
     "end_time": "2023-08-29T23:22:39.319400+00:00",
     "start_time": "2023-08-29T23:22:39.083520+00:00"
    },
    "datalink": {
     "258c5220-07ee-44a7-be4f-558774ef4492": {
      "applied_filters": [],
      "dataframe_info": {
       "default_index_used": false,
       "orig_num_cols": 8,
       "orig_num_rows": 4,
       "orig_size_bytes": 288,
       "truncated_num_cols": 8,
       "truncated_num_rows": 4,
       "truncated_size_bytes": 288,
       "truncated_string_columns": []
      },
      "display_id": "258c5220-07ee-44a7-be4f-558774ef4492",
      "dx_settings": {
       "ALLOW_NOTEABLE_ATTRS": true,
       "COLUMN_SAMPLING_METHOD": "outer",
       "DB_LOCATION": ":memory:",
       "DEV_MODE": false,
       "DISPLAY_MAX_COLUMNS": 100,
       "DISPLAY_MAX_ROWS": 50000,
       "DISPLAY_MODE": "simple",
       "ENABLE_ASSIGNMENT": true,
       "ENABLE_DATALINK": true,
       "FLATTEN_COLUMN_VALUES": true,
       "FLATTEN_INDEX_VALUES": false,
       "GENERATE_DEX_METADATA": false,
       "HTML_TABLE_SCHEMA": false,
       "LOG_LEVEL": 30,
       "MAX_RENDER_SIZE_BYTES": 104857600,
       "MAX_STRING_LENGTH": 250,
       "NUM_PAST_SAMPLES_TRACKED": 3,
       "RANDOM_STATE": 12648430,
       "RESET_INDEX_VALUES": false,
       "ROW_SAMPLING_METHOD": "random",
       "SAMPLING_FACTOR": 0.1,
       "SAMPLING_METHOD": "random",
       "STRINGIFY_COLUMN_VALUES": true,
       "STRINGIFY_INDEX_VALUES": false
      },
      "sample_history": [],
      "sampling_time": "2023-08-29T23:22:39.153169",
      "user_variable_name": "statistics_df",
      "variable_name": "statistics_df"
     }
    },
    "noteable": {
     "cell_type": "code",
     "output_collection_id": "3efdf110-403d-40b6-8489-0fa5468ca184"
    }
   },
   "outputs": [],
   "source": [
    "# Calculating basic statistics for the attributes in the champion dataframe using the attributes array\n",
    "# Declare statistics_df variable and store the basic statistic for the attributes\n",
    "# You can achieve calculating basic statistic by follow this example: dataframe[array].describe().transpose()"
   ]
  },
  {
   "cell_type": "markdown",
   "id": "47e66c50",
   "metadata": {},
   "source": [
    "### 4. Explore Attribute Correlations\n",
    "Correlation measures the strength and direction of a linear relationship between two variables. It can range from -1 to 1, where:\n",
    "\n",
    "1 indicates a perfect positive linear relationship.\n",
    "-1 indicates a perfect negative linear relationship.\n",
    "0 indicates no linear relationship.\n",
    "Let's calculate and visualize the correlations between the champion attributes."
   ]
  },
  {
   "cell_type": "code",
   "execution_count": null,
   "id": "b098e51a-9a53-488b-a5b9-940717e71bbd",
   "metadata": {
    "ExecuteTime": {
     "end_time": "2023-08-29T23:23:18.926632+00:00",
     "start_time": "2023-08-29T23:23:18.310351+00:00"
    },
    "noteable": {
     "cell_type": "code",
     "output_collection_id": "e82c6368-f034-4448-acb2-108ab82a2b5f"
    }
   },
   "outputs": [],
   "source": [
    "# Calculating the correlation matrix\n",
    "# Declare a vairable correlation_matrix and calculate the correlation matrix\n",
    "# For example: dataframe[array].corr()\n",
    "\n",
    "# Plotting the heatmap for correlations using heatmap function in seaborns package (SNS)"
   ]
  },
  {
   "cell_type": "markdown",
   "id": "430739e1-e3fd-44b2-b298-47eb11aa907d",
   "metadata": {
    "noteable": {
     "cell_type": "markdown"
    }
   },
   "source": [
    "## Data Preparation for Machine Learning\n",
    "\n",
    "Before we can train a machine learning model, we need to prepare the data. This involves several steps to ensure that the data is in the right format and is suitable for modeling. In this section, we'll cover the following steps:\n",
    "\n",
    "1. **Feature Engineering**: Creating new features or modifying existing ones to improve model performance.\n",
    "2. **Encoding Categorical Variables**: Converting categorical variables into a format that can be provided to machine learning algorithms.\n",
    "3. **Splitting the Data**: Dividing the data into training and testing sets to evaluate the model's performance.\n",
    "4. **Feature Scaling**: Normalizing or standardizing the features so they have a similar scale.\n",
    "\n",
    "Let's start with feature engineering."
   ]
  },
  {
   "cell_type": "code",
   "execution_count": null,
   "id": "de2c540c-1805-4044-95f4-f4169ebf0e3d",
   "metadata": {
    "ExecuteTime": {
     "end_time": "2023-08-29T23:29:58.005392+00:00",
     "start_time": "2023-08-29T23:29:57.765492+00:00"
    },
    "datalink": {
     "80dc4b35-4782-4e46-9363-54750436d247": {
      "applied_filters": [],
      "dataframe_info": {
       "default_index_used": true,
       "orig_num_cols": 9,
       "orig_num_rows": 5,
       "orig_size_bytes": 400,
       "truncated_num_cols": 9,
       "truncated_num_rows": 5,
       "truncated_size_bytes": 400,
       "truncated_string_columns": []
      },
      "display_id": "80dc4b35-4782-4e46-9363-54750436d247",
      "dx_settings": {
       "ALLOW_NOTEABLE_ATTRS": true,
       "COLUMN_SAMPLING_METHOD": "outer",
       "DB_LOCATION": ":memory:",
       "DEV_MODE": false,
       "DISPLAY_MAX_COLUMNS": 100,
       "DISPLAY_MAX_ROWS": 50000,
       "DISPLAY_MODE": "simple",
       "ENABLE_ASSIGNMENT": true,
       "ENABLE_DATALINK": true,
       "FLATTEN_COLUMN_VALUES": true,
       "FLATTEN_INDEX_VALUES": false,
       "GENERATE_DEX_METADATA": false,
       "HTML_TABLE_SCHEMA": false,
       "LOG_LEVEL": 30,
       "MAX_RENDER_SIZE_BYTES": 104857600,
       "MAX_STRING_LENGTH": 250,
       "NUM_PAST_SAMPLES_TRACKED": 3,
       "RANDOM_STATE": 12648430,
       "RESET_INDEX_VALUES": false,
       "ROW_SAMPLING_METHOD": "random",
       "SAMPLING_FACTOR": 0.1,
       "SAMPLING_METHOD": "random",
       "STRINGIFY_COLUMN_VALUES": true,
       "STRINGIFY_INDEX_VALUES": false
      },
      "sample_history": [],
      "sampling_time": "2023-08-29T23:29:57.835531",
      "user_variable_name": null,
      "variable_name": "unk_dataframe_d5b089c4f31a4ab7ac6a46e5a8503246"
     }
    },
    "noteable": {
     "cell_type": "code",
     "output_collection_id": "c87d2b7e-0405-45c1-8074-bd5456b76dab"
    }
   },
   "outputs": [],
   "source": [
    "champion_outcome_df = []\n",
    "\n",
    "# FOR each row i in champion_df:\n",
    "#     FOR each row j in champion_df starting from i+1:\n",
    "#         SET champ1 TO row i of champion_df\n",
    "#         SET champ2 TO row j of champion_df\n",
    "\n",
    "#         CALCULATE attack_diff AS difference between attack_power of champ1 and champ2\n",
    "#         CALCULATE defense_diff AS difference between defense_power of champ1 and champ2\n",
    "#         CALCULATE health_diff AS difference between health of champ1 and champ2\n",
    "\n",
    "#         IF attack_diff is positive AND health_diff is positive THEN:\n",
    "#             SET outcome TO 1\n",
    "#         ELSE:\n",
    "#             SET outcome TO 0\n",
    "\n",
    "#         ADD [attack_diff, defense_diff, health_diff, outcome] TO champion_outcome_list\n",
    "\n",
    "# CREATE match_df FROM champion_outcome_list with columns 'attack_diff', 'defense_diff', 'health_diff', 'outcome'\n",
    "\n",
    "\n"
   ]
  },
  {
   "cell_type": "code",
   "execution_count": null,
   "id": "5e931803",
   "metadata": {},
   "outputs": [],
   "source": [
    "# SET X TO all columns of match_df EXCEPT 'outcome'\n",
    "# SET y TO 'outcome' column of match_df\n",
    "\n",
    "# SPLIT X and y INTO X_train, X_test, y_train, y_test with 20% data as test and a fixed random seed"
   ]
  },
  {
   "cell_type": "code",
   "execution_count": null,
   "id": "63e3c902-38cd-4eec-a1a4-9b2d638244dc",
   "metadata": {
    "ExecuteTime": {
     "end_time": "2023-08-29T23:30:21.591532+00:00",
     "start_time": "2023-08-29T23:30:21.334060+00:00"
    },
    "datalink": {
     "5e65c64b-9ee2-41e7-9600-0a586f2c132a": {
      "applied_filters": [],
      "dataframe_info": {
       "default_index_used": true,
       "orig_num_cols": 13,
       "orig_num_rows": 5,
       "orig_size_bytes": 385,
       "truncated_num_cols": 13,
       "truncated_num_rows": 5,
       "truncated_size_bytes": 385,
       "truncated_string_columns": []
      },
      "display_id": "5e65c64b-9ee2-41e7-9600-0a586f2c132a",
      "dx_settings": {
       "ALLOW_NOTEABLE_ATTRS": true,
       "COLUMN_SAMPLING_METHOD": "outer",
       "DB_LOCATION": ":memory:",
       "DEV_MODE": false,
       "DISPLAY_MAX_COLUMNS": 100,
       "DISPLAY_MAX_ROWS": 50000,
       "DISPLAY_MODE": "simple",
       "ENABLE_ASSIGNMENT": true,
       "ENABLE_DATALINK": true,
       "FLATTEN_COLUMN_VALUES": true,
       "FLATTEN_INDEX_VALUES": false,
       "GENERATE_DEX_METADATA": false,
       "HTML_TABLE_SCHEMA": false,
       "LOG_LEVEL": 30,
       "MAX_RENDER_SIZE_BYTES": 104857600,
       "MAX_STRING_LENGTH": 250,
       "NUM_PAST_SAMPLES_TRACKED": 3,
       "RANDOM_STATE": 12648430,
       "RESET_INDEX_VALUES": false,
       "ROW_SAMPLING_METHOD": "random",
       "SAMPLING_FACTOR": 0.1,
       "SAMPLING_METHOD": "random",
       "STRINGIFY_COLUMN_VALUES": true,
       "STRINGIFY_INDEX_VALUES": false
      },
      "sample_history": [],
      "sampling_time": "2023-08-29T23:30:21.421486",
      "user_variable_name": null,
      "variable_name": "unk_dataframe_8a5bfc7047b645c297d780108851ceef"
     }
    },
    "noteable": {
     "cell_type": "code",
     "output_collection_id": "2a324e5e-46b9-4ef3-aedb-818c1d547b31"
    }
   },
   "outputs": [],
   "source": [
    "model = DecisionTreeClassifier()\n",
    "model.fit(X_train, y_train)"
   ]
  },
  {
   "cell_type": "code",
   "execution_count": null,
   "id": "87ed7891-e50e-41be-944d-7218a9f9c689",
   "metadata": {
    "ExecuteTime": {
     "end_time": "2023-08-29T23:30:56.052054+00:00",
     "start_time": "2023-08-29T23:30:55.763277+00:00"
    },
    "noteable": {
     "cell_type": "code",
     "output_collection_id": "4ebcadf6-00b1-4359-956b-0bc04234201b"
    }
   },
   "outputs": [],
   "source": [
    "y_pred = model.predict(X_test)\n",
    "accuracy = accuracy_score(y_test, y_pred)\n",
    "print(f\"Accuracy: {accuracy * 100:.2f}%\")"
   ]
  },
  {
   "cell_type": "code",
   "execution_count": null,
   "id": "6718aa1e-9c1b-4db1-82a5-5e4d087b8de5",
   "metadata": {
    "ExecuteTime": {
     "end_time": "2023-08-29T23:31:27.244932+00:00",
     "start_time": "2023-08-29T23:31:27.074521+00:00"
    },
    "noteable": {
     "cell_type": "code",
     "output_collection_id": "a990af6f-5fbc-4899-a2e5-41604d5ef0ac"
    }
   },
   "outputs": [],
   "source": [
    "def predict_outcome(champ1_name, champ2_name):\n",
    "    champ1 = df[df.name == champ1_name].iloc[0]\n",
    "    champ2 = df[df.name == champ2_name].iloc[0]\n",
    "\n",
    "    attack_diff = champ1.attack_power - champ2.attack_power\n",
    "    defense_diff = champ1.defense_power - champ2.defense_power\n",
    "    health_diff = champ1.health - champ2.health\n",
    "\n",
    "    prediction = model.predict([[attack_diff, defense_diff, health_diff]])\n",
    "\n",
    "    if prediction == 1:\n",
    "        return champ1_name + \" wins!\"\n",
    "    else:\n",
    "        return champ2_name + \" wins!\"\n",
    "\n",
    "print(predict_outcome('Aatrox', 'Ahri'))\n"
   ]
  }
 ],
 "metadata": {
  "kernel_info": {
   "name": "python3"
  },
  "kernelspec": {
   "display_name": "Python 3 (ipykernel)",
   "language": "python",
   "name": "python3"
  },
  "language_info": {
   "codemirror_mode": {
    "name": "ipython",
    "version": 3
   },
   "file_extension": ".py",
   "mimetype": "text/x-python",
   "name": "python",
   "nbconvert_exporter": "python",
   "pygments_lexer": "ipython3",
   "version": "3.11.4"
  },
  "noteable": {
   "last_transaction_id": "2a9f7ee4-ad44-4d52-b329-0e77f23d111e"
  },
  "noteable-chatgpt": {
   "create_notebook": {
    "openai_conversation_id": "3e9adb6d-7b4c-59be-a959-9c5d82479afa",
    "openai_ephemeral_user_id": "e7b2c259-ccbd-55d8-b4a5-e2abf53db872",
    "openai_subdivision1_iso_code": "US-MA"
   }
  },
  "selected_hardware_size": "small"
 },
 "nbformat": 4,
 "nbformat_minor": 5
}
